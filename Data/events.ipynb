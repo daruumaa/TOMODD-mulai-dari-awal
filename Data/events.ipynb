{
 "cells": [
  {
   "cell_type": "code",
   "execution_count": 1,
   "metadata": {},
   "outputs": [],
   "source": [
    "import pandas as pd\n",
    "import numpy as np\n",
    "import seaborn as sns\n",
    "import matplotlib.pyplot as plt"
   ]
  },
  {
   "cell_type": "code",
   "execution_count": 2,
   "metadata": {},
   "outputs": [
    {
     "name": "stdout",
     "output_type": "stream",
     "text": [
      "Depth (m)\tVs (km/s)\n",
      "-----------------------\n",
      "-200.00\t\t4.30\n",
      "-2.00\t\t4.40\n",
      "0.00\t\t4.60\n",
      "10.00\t\t6.00\n",
      "20.00\t\t7.00\n",
      "30.00\t\t7.18\n",
      "40.00\t\t7.31\n",
      "50.00\t\t7.44\n",
      "60.00\t\t7.58\n",
      "70.00\t\t7.71\n",
      "80.00\t\t7.82\n",
      "90.00\t\t7.88\n",
      "100.00\t\t7.93\n",
      "110.00\t\t7.99\n",
      "120.00\t\t8.05\n",
      "130.00\t\t8.08\n",
      "140.00\t\t8.10\n",
      "150.00\t\t8.13\n",
      "160.00\t\t8.16\n",
      "170.00\t\t8.18\n",
      "240.00\t\t8.41\n",
      "1000.00\t\t8.66\n"
     ]
    }
   ],
   "source": [
    "import numpy as np\n",
    "\n",
    "# Define the depths and Vp values from your data\n",
    "depths = [-3, 3, 8, 16, 24, 77, 120, 165, 210, 260, 310]\n",
    "Vp = [4.30, 4.90, 5.70, 6.90, 7.10, 7.80, 8.05, 8.17, 8.30, 8.48, 8.66]\n",
    "Vs = [2.47, 2.81, 3.27, 3.96, 4.08, 4.48, 4.62, 4.69, 4.77, 4.87, 4.97]\n",
    "\n",
    "# Define the depths at which you want to interpolate\n",
    "interp_depths = [-200, -2, 0, 10, 20, 30, 40, 50, 60, 70, 80, 90, 100, 110, 120, 130, 140, 150, 160, 170, 240, 1000]\n",
    "# y = y1 + (x - x1) * ((y2 - y1) / (x2 - x1)) The equation\n",
    "\n",
    "\n",
    "# Use numpy.interp() to interpolate the Vp values at the target depths\n",
    "interp_Vp = np.interp(interp_depths, depths, Vp)\n",
    "interp_Vs = np.interp(interp_depths,depths, Vs)\n",
    "\n",
    "# Print the interpolated Vp values\n",
    "print(\"Depth (m)\\tVs (km/s)\")\n",
    "print(\"-----------------------\")\n",
    "for i in range(len(interp_depths)):\n",
    "    print(f\"{interp_depths[i]:.2f}\\t\\t{interp_Vp[i]:.2f}\")\n"
   ]
  },
  {
   "cell_type": "code",
   "execution_count": 5,
   "metadata": {},
   "outputs": [
    {
     "name": "stderr",
     "output_type": "stream",
     "text": [
      "<>:1: SyntaxWarning: invalid escape sequence '\\s'\n",
      "<>:1: SyntaxWarning: invalid escape sequence '\\s'\n",
      "C:\\Users\\Legion\\AppData\\Local\\Temp\\ipykernel_25728\\218152350.py:1: SyntaxWarning: invalid escape sequence '\\s'\n",
      "  events_df=pd.read_csv('event.dat',sep='\\s+',header=None) #load the csv\n"
     ]
    }
   ],
   "source": [
    "events_df=pd.read_csv('event.dat',sep='\\s+',header=None) #load the csv\n",
    "column_names = ['DATE', 'TIME', 'LAT', 'LON', 'DEP', 'MAG', 'EH', 'EV', 'RMS', 'ID', 'TYPE'] #create the header\n",
    "events_df.columns = column_names #update into dataframe"
   ]
  },
  {
   "cell_type": "code",
   "execution_count": 6,
   "metadata": {},
   "outputs": [
    {
     "data": {
      "text/html": [
       "<div>\n",
       "<style scoped>\n",
       "    .dataframe tbody tr th:only-of-type {\n",
       "        vertical-align: middle;\n",
       "    }\n",
       "\n",
       "    .dataframe tbody tr th {\n",
       "        vertical-align: top;\n",
       "    }\n",
       "\n",
       "    .dataframe thead th {\n",
       "        text-align: right;\n",
       "    }\n",
       "</style>\n",
       "<table border=\"1\" class=\"dataframe\">\n",
       "  <thead>\n",
       "    <tr style=\"text-align: right;\">\n",
       "      <th></th>\n",
       "      <th>DATE</th>\n",
       "      <th>TIME</th>\n",
       "      <th>LAT</th>\n",
       "      <th>LON</th>\n",
       "      <th>DEP</th>\n",
       "      <th>MAG</th>\n",
       "      <th>EH</th>\n",
       "      <th>EV</th>\n",
       "      <th>RMS</th>\n",
       "      <th>ID</th>\n",
       "      <th>TYPE</th>\n",
       "    </tr>\n",
       "  </thead>\n",
       "  <tbody>\n",
       "    <tr>\n",
       "      <th>0</th>\n",
       "      <td>20120101</td>\n",
       "      <td>18013040.0</td>\n",
       "      <td>-7.94</td>\n",
       "      <td>111.65</td>\n",
       "      <td>10.0</td>\n",
       "      <td>2.6</td>\n",
       "      <td>0.0</td>\n",
       "      <td>0.0</td>\n",
       "      <td>0.82</td>\n",
       "      <td>1.0</td>\n",
       "      <td>0.0</td>\n",
       "    </tr>\n",
       "    <tr>\n",
       "      <th>1</th>\n",
       "      <td>20120102</td>\n",
       "      <td>18395190.0</td>\n",
       "      <td>-8.87</td>\n",
       "      <td>111.45</td>\n",
       "      <td>28.0</td>\n",
       "      <td>2.9</td>\n",
       "      <td>0.0</td>\n",
       "      <td>0.0</td>\n",
       "      <td>1.11</td>\n",
       "      <td>2.0</td>\n",
       "      <td>0.0</td>\n",
       "    </tr>\n",
       "    <tr>\n",
       "      <th>2</th>\n",
       "      <td>20120103</td>\n",
       "      <td>14115070.0</td>\n",
       "      <td>-9.81</td>\n",
       "      <td>112.97</td>\n",
       "      <td>18.0</td>\n",
       "      <td>3.4</td>\n",
       "      <td>0.0</td>\n",
       "      <td>0.0</td>\n",
       "      <td>0.33</td>\n",
       "      <td>3.0</td>\n",
       "      <td>0.0</td>\n",
       "    </tr>\n",
       "    <tr>\n",
       "      <th>3</th>\n",
       "      <td>20120103</td>\n",
       "      <td>19122250.0</td>\n",
       "      <td>-9.11</td>\n",
       "      <td>111.79</td>\n",
       "      <td>109.0</td>\n",
       "      <td>2.7</td>\n",
       "      <td>0.0</td>\n",
       "      <td>0.0</td>\n",
       "      <td>0.62</td>\n",
       "      <td>4.0</td>\n",
       "      <td>0.0</td>\n",
       "    </tr>\n",
       "    <tr>\n",
       "      <th>4</th>\n",
       "      <td>20120106</td>\n",
       "      <td>13194460.0</td>\n",
       "      <td>-8.65</td>\n",
       "      <td>112.31</td>\n",
       "      <td>96.0</td>\n",
       "      <td>3.8</td>\n",
       "      <td>0.0</td>\n",
       "      <td>0.0</td>\n",
       "      <td>0.65</td>\n",
       "      <td>5.0</td>\n",
       "      <td>0.0</td>\n",
       "    </tr>\n",
       "    <tr>\n",
       "      <th>...</th>\n",
       "      <td>...</td>\n",
       "      <td>...</td>\n",
       "      <td>...</td>\n",
       "      <td>...</td>\n",
       "      <td>...</td>\n",
       "      <td>...</td>\n",
       "      <td>...</td>\n",
       "      <td>...</td>\n",
       "      <td>...</td>\n",
       "      <td>...</td>\n",
       "      <td>...</td>\n",
       "    </tr>\n",
       "    <tr>\n",
       "      <th>1196</th>\n",
       "      <td>20171229</td>\n",
       "      <td>22155310.0</td>\n",
       "      <td>-9.04</td>\n",
       "      <td>111.18</td>\n",
       "      <td>10.0</td>\n",
       "      <td>4.1</td>\n",
       "      <td>0.0</td>\n",
       "      <td>0.0</td>\n",
       "      <td>1.01</td>\n",
       "      <td>1197.0</td>\n",
       "      <td>0.0</td>\n",
       "    </tr>\n",
       "    <tr>\n",
       "      <th>1197</th>\n",
       "      <td>20171230</td>\n",
       "      <td>7540210.0</td>\n",
       "      <td>-9.77</td>\n",
       "      <td>112.86</td>\n",
       "      <td>10.0</td>\n",
       "      <td>4.2</td>\n",
       "      <td>0.0</td>\n",
       "      <td>0.0</td>\n",
       "      <td>0.76</td>\n",
       "      <td>1198.0</td>\n",
       "      <td>0.0</td>\n",
       "    </tr>\n",
       "    <tr>\n",
       "      <th>1198</th>\n",
       "      <td>20171230</td>\n",
       "      <td>11260890.0</td>\n",
       "      <td>-9.80</td>\n",
       "      <td>112.87</td>\n",
       "      <td>10.0</td>\n",
       "      <td>4.0</td>\n",
       "      <td>0.0</td>\n",
       "      <td>0.0</td>\n",
       "      <td>0.74</td>\n",
       "      <td>1199.0</td>\n",
       "      <td>0.0</td>\n",
       "    </tr>\n",
       "    <tr>\n",
       "      <th>1199</th>\n",
       "      <td>20171231</td>\n",
       "      <td>21035530.0</td>\n",
       "      <td>-5.80</td>\n",
       "      <td>110.68</td>\n",
       "      <td>536.0</td>\n",
       "      <td>4.3</td>\n",
       "      <td>0.0</td>\n",
       "      <td>0.0</td>\n",
       "      <td>0.72</td>\n",
       "      <td>1200.0</td>\n",
       "      <td>0.0</td>\n",
       "    </tr>\n",
       "    <tr>\n",
       "      <th>1200</th>\n",
       "      <td>0</td>\n",
       "      <td>NaN</td>\n",
       "      <td>NaN</td>\n",
       "      <td>NaN</td>\n",
       "      <td>NaN</td>\n",
       "      <td>NaN</td>\n",
       "      <td>NaN</td>\n",
       "      <td>NaN</td>\n",
       "      <td>NaN</td>\n",
       "      <td>NaN</td>\n",
       "      <td>NaN</td>\n",
       "    </tr>\n",
       "  </tbody>\n",
       "</table>\n",
       "<p>1201 rows × 11 columns</p>\n",
       "</div>"
      ],
      "text/plain": [
       "          DATE        TIME   LAT     LON    DEP  MAG   EH   EV   RMS      ID  \\\n",
       "0     20120101  18013040.0 -7.94  111.65   10.0  2.6  0.0  0.0  0.82     1.0   \n",
       "1     20120102  18395190.0 -8.87  111.45   28.0  2.9  0.0  0.0  1.11     2.0   \n",
       "2     20120103  14115070.0 -9.81  112.97   18.0  3.4  0.0  0.0  0.33     3.0   \n",
       "3     20120103  19122250.0 -9.11  111.79  109.0  2.7  0.0  0.0  0.62     4.0   \n",
       "4     20120106  13194460.0 -8.65  112.31   96.0  3.8  0.0  0.0  0.65     5.0   \n",
       "...        ...         ...   ...     ...    ...  ...  ...  ...   ...     ...   \n",
       "1196  20171229  22155310.0 -9.04  111.18   10.0  4.1  0.0  0.0  1.01  1197.0   \n",
       "1197  20171230   7540210.0 -9.77  112.86   10.0  4.2  0.0  0.0  0.76  1198.0   \n",
       "1198  20171230  11260890.0 -9.80  112.87   10.0  4.0  0.0  0.0  0.74  1199.0   \n",
       "1199  20171231  21035530.0 -5.80  110.68  536.0  4.3  0.0  0.0  0.72  1200.0   \n",
       "1200         0         NaN   NaN     NaN    NaN  NaN  NaN  NaN   NaN     NaN   \n",
       "\n",
       "      TYPE  \n",
       "0      0.0  \n",
       "1      0.0  \n",
       "2      0.0  \n",
       "3      0.0  \n",
       "4      0.0  \n",
       "...    ...  \n",
       "1196   0.0  \n",
       "1197   0.0  \n",
       "1198   0.0  \n",
       "1199   0.0  \n",
       "1200   NaN  \n",
       "\n",
       "[1201 rows x 11 columns]"
      ]
     },
     "execution_count": 6,
     "metadata": {},
     "output_type": "execute_result"
    }
   ],
   "source": [
    "events_df"
   ]
  },
  {
   "cell_type": "code",
   "execution_count": 4,
   "metadata": {},
   "outputs": [
    {
     "ename": "ValueError",
     "evalue": "time data \"0\" doesn't match format \"%Y%m%d\", at position 754. You might want to try:\n    - passing `format` if your strings have a consistent format;\n    - passing `format='ISO8601'` if your strings are all ISO8601 but not necessarily in exactly the same format;\n    - passing `format='mixed'`, and the format will be inferred for each element individually. You might want to use `dayfirst` alongside this.",
     "output_type": "error",
     "traceback": [
      "\u001b[1;31m---------------------------------------------------------------------------\u001b[0m",
      "\u001b[1;31mValueError\u001b[0m                                Traceback (most recent call last)",
      "\u001b[1;32mc:\\Users\\Legion\\OneDrive - UNIVERSITAS INDONESIA\\Documents\\Software geofis\\TOMODD mulai dari awal\\Data\\events.ipynb Cell 4\u001b[0m line \u001b[0;36m1\n\u001b[1;32m----> <a href='vscode-notebook-cell:/c%3A/Users/Legion/OneDrive%20-%20UNIVERSITAS%20INDONESIA/Documents/Software%20geofis/TOMODD%20mulai%20dari%20awal/Data/events.ipynb#W3sZmlsZQ%3D%3D?line=0'>1</a>\u001b[0m events_df\u001b[39m.\u001b[39mDATE\u001b[39m=\u001b[39mpd\u001b[39m.\u001b[39;49mto_datetime(events_df\u001b[39m.\u001b[39;49mDATE,\u001b[39mformat\u001b[39;49m\u001b[39m=\u001b[39;49m\u001b[39m'\u001b[39;49m\u001b[39m%\u001b[39;49m\u001b[39mY\u001b[39;49m\u001b[39m%\u001b[39;49m\u001b[39mm\u001b[39;49m\u001b[39m%d\u001b[39;49;00m\u001b[39m'\u001b[39;49m) \u001b[39m#change data type DATE into datetime\u001b[39;00m\n\u001b[0;32m      <a href='vscode-notebook-cell:/c%3A/Users/Legion/OneDrive%20-%20UNIVERSITAS%20INDONESIA/Documents/Software%20geofis/TOMODD%20mulai%20dari%20awal/Data/events.ipynb#W3sZmlsZQ%3D%3D?line=1'>2</a>\u001b[0m events_df[\u001b[39m'\u001b[39m\u001b[39mTIME\u001b[39m\u001b[39m'\u001b[39m] \u001b[39m=\u001b[39m events_df[\u001b[39m'\u001b[39m\u001b[39mTIME\u001b[39m\u001b[39m'\u001b[39m]\u001b[39m.\u001b[39mapply(\u001b[39mlambda\u001b[39;00m x: \u001b[39m'\u001b[39m\u001b[39m{:02d}\u001b[39;00m\u001b[39m:\u001b[39m\u001b[39m{:02d}\u001b[39;00m\u001b[39m:\u001b[39m\u001b[39m{:02d}\u001b[39;00m\u001b[39m.\u001b[39m\u001b[39m{:02d}\u001b[39;00m\u001b[39m'\u001b[39m\u001b[39m.\u001b[39mformat(x \u001b[39m/\u001b[39m\u001b[39m/\u001b[39m \u001b[39m1000000\u001b[39m, (x \u001b[39m/\u001b[39m\u001b[39m/\u001b[39m \u001b[39m10000\u001b[39m) \u001b[39m%\u001b[39m \u001b[39m100\u001b[39m, (x \u001b[39m/\u001b[39m\u001b[39m/\u001b[39m \u001b[39m100\u001b[39m) \u001b[39m%\u001b[39m \u001b[39m100\u001b[39m, x \u001b[39m%\u001b[39m \u001b[39m100\u001b[39m))\u001b[39m#events_df['Date']=events_df['DateTime'].dt.date #split the date and time\u001b[39;00m\n\u001b[0;32m      <a href='vscode-notebook-cell:/c%3A/Users/Legion/OneDrive%20-%20UNIVERSITAS%20INDONESIA/Documents/Software%20geofis/TOMODD%20mulai%20dari%20awal/Data/events.ipynb#W3sZmlsZQ%3D%3D?line=2'>3</a>\u001b[0m \u001b[39m#events_df['TIME'] = pd.to_datetime(events_df['TIME'].apply(lambda x: '{:02d}:{:02d}:{:02d}.{:02d}'.format(x // 1000000, (x // 10000) % 100, (x // 100) % 100, x % 100)), format='%H:%M:%S.%f').dt.time\u001b[39;00m\n\u001b[0;32m      <a href='vscode-notebook-cell:/c%3A/Users/Legion/OneDrive%20-%20UNIVERSITAS%20INDONESIA/Documents/Software%20geofis/TOMODD%20mulai%20dari%20awal/Data/events.ipynb#W3sZmlsZQ%3D%3D?line=3'>4</a>\u001b[0m \u001b[39m#events_df['Time']=events_df['DateTime'].dt.time\u001b[39;00m\n",
      "File \u001b[1;32mc:\\Users\\Legion\\AppData\\Local\\Programs\\Python\\Python312\\Lib\\site-packages\\pandas\\core\\tools\\datetimes.py:1108\u001b[0m, in \u001b[0;36mto_datetime\u001b[1;34m(arg, errors, dayfirst, yearfirst, utc, format, exact, unit, infer_datetime_format, origin, cache)\u001b[0m\n\u001b[0;32m   1106\u001b[0m             result \u001b[39m=\u001b[39m arg\u001b[39m.\u001b[39mtz_localize(\u001b[39m\"\u001b[39m\u001b[39mutc\u001b[39m\u001b[39m\"\u001b[39m)\n\u001b[0;32m   1107\u001b[0m \u001b[39melif\u001b[39;00m \u001b[39misinstance\u001b[39m(arg, ABCSeries):\n\u001b[1;32m-> 1108\u001b[0m     cache_array \u001b[39m=\u001b[39m _maybe_cache(arg, \u001b[39mformat\u001b[39;49m, cache, convert_listlike)\n\u001b[0;32m   1109\u001b[0m     \u001b[39mif\u001b[39;00m \u001b[39mnot\u001b[39;00m cache_array\u001b[39m.\u001b[39mempty:\n\u001b[0;32m   1110\u001b[0m         result \u001b[39m=\u001b[39m arg\u001b[39m.\u001b[39mmap(cache_array)\n",
      "File \u001b[1;32mc:\\Users\\Legion\\AppData\\Local\\Programs\\Python\\Python312\\Lib\\site-packages\\pandas\\core\\tools\\datetimes.py:254\u001b[0m, in \u001b[0;36m_maybe_cache\u001b[1;34m(arg, format, cache, convert_listlike)\u001b[0m\n\u001b[0;32m    252\u001b[0m unique_dates \u001b[39m=\u001b[39m unique(arg)\n\u001b[0;32m    253\u001b[0m \u001b[39mif\u001b[39;00m \u001b[39mlen\u001b[39m(unique_dates) \u001b[39m<\u001b[39m \u001b[39mlen\u001b[39m(arg):\n\u001b[1;32m--> 254\u001b[0m     cache_dates \u001b[39m=\u001b[39m convert_listlike(unique_dates, \u001b[39mformat\u001b[39;49m)\n\u001b[0;32m    255\u001b[0m     \u001b[39m# GH#45319\u001b[39;00m\n\u001b[0;32m    256\u001b[0m     \u001b[39mtry\u001b[39;00m:\n",
      "File \u001b[1;32mc:\\Users\\Legion\\AppData\\Local\\Programs\\Python\\Python312\\Lib\\site-packages\\pandas\\core\\tools\\datetimes.py:488\u001b[0m, in \u001b[0;36m_convert_listlike_datetimes\u001b[1;34m(arg, format, name, utc, unit, errors, dayfirst, yearfirst, exact)\u001b[0m\n\u001b[0;32m    486\u001b[0m \u001b[39m# `format` could be inferred, or user didn't ask for mixed-format parsing.\u001b[39;00m\n\u001b[0;32m    487\u001b[0m \u001b[39mif\u001b[39;00m \u001b[39mformat\u001b[39m \u001b[39mis\u001b[39;00m \u001b[39mnot\u001b[39;00m \u001b[39mNone\u001b[39;00m \u001b[39mand\u001b[39;00m \u001b[39mformat\u001b[39m \u001b[39m!=\u001b[39m \u001b[39m\"\u001b[39m\u001b[39mmixed\u001b[39m\u001b[39m\"\u001b[39m:\n\u001b[1;32m--> 488\u001b[0m     \u001b[39mreturn\u001b[39;00m _array_strptime_with_fallback(arg, name, utc, \u001b[39mformat\u001b[39;49m, exact, errors)\n\u001b[0;32m    490\u001b[0m result, tz_parsed \u001b[39m=\u001b[39m objects_to_datetime64ns(\n\u001b[0;32m    491\u001b[0m     arg,\n\u001b[0;32m    492\u001b[0m     dayfirst\u001b[39m=\u001b[39mdayfirst,\n\u001b[1;32m   (...)\u001b[0m\n\u001b[0;32m    496\u001b[0m     allow_object\u001b[39m=\u001b[39m\u001b[39mTrue\u001b[39;00m,\n\u001b[0;32m    497\u001b[0m )\n\u001b[0;32m    499\u001b[0m \u001b[39mif\u001b[39;00m tz_parsed \u001b[39mis\u001b[39;00m \u001b[39mnot\u001b[39;00m \u001b[39mNone\u001b[39;00m:\n\u001b[0;32m    500\u001b[0m     \u001b[39m# We can take a shortcut since the datetime64 numpy array\u001b[39;00m\n\u001b[0;32m    501\u001b[0m     \u001b[39m# is in UTC\u001b[39;00m\n",
      "File \u001b[1;32mc:\\Users\\Legion\\AppData\\Local\\Programs\\Python\\Python312\\Lib\\site-packages\\pandas\\core\\tools\\datetimes.py:519\u001b[0m, in \u001b[0;36m_array_strptime_with_fallback\u001b[1;34m(arg, name, utc, fmt, exact, errors)\u001b[0m\n\u001b[0;32m    508\u001b[0m \u001b[39mdef\u001b[39;00m \u001b[39m_array_strptime_with_fallback\u001b[39m(\n\u001b[0;32m    509\u001b[0m     arg,\n\u001b[0;32m    510\u001b[0m     name,\n\u001b[1;32m   (...)\u001b[0m\n\u001b[0;32m    514\u001b[0m     errors: \u001b[39mstr\u001b[39m,\n\u001b[0;32m    515\u001b[0m ) \u001b[39m-\u001b[39m\u001b[39m>\u001b[39m Index:\n\u001b[0;32m    516\u001b[0m \u001b[39m    \u001b[39m\u001b[39m\"\"\"\u001b[39;00m\n\u001b[0;32m    517\u001b[0m \u001b[39m    Call array_strptime, with fallback behavior depending on 'errors'.\u001b[39;00m\n\u001b[0;32m    518\u001b[0m \u001b[39m    \"\"\"\u001b[39;00m\n\u001b[1;32m--> 519\u001b[0m     result, timezones \u001b[39m=\u001b[39m array_strptime(arg, fmt, exact\u001b[39m=\u001b[39;49mexact, errors\u001b[39m=\u001b[39;49merrors, utc\u001b[39m=\u001b[39;49mutc)\n\u001b[0;32m    520\u001b[0m     \u001b[39mif\u001b[39;00m \u001b[39many\u001b[39m(tz \u001b[39mis\u001b[39;00m \u001b[39mnot\u001b[39;00m \u001b[39mNone\u001b[39;00m \u001b[39mfor\u001b[39;00m tz \u001b[39min\u001b[39;00m timezones):\n\u001b[0;32m    521\u001b[0m         \u001b[39mreturn\u001b[39;00m _return_parsed_timezone_results(result, timezones, utc, name)\n",
      "File \u001b[1;32mstrptime.pyx:534\u001b[0m, in \u001b[0;36mpandas._libs.tslibs.strptime.array_strptime\u001b[1;34m()\u001b[0m\n",
      "File \u001b[1;32mstrptime.pyx:355\u001b[0m, in \u001b[0;36mpandas._libs.tslibs.strptime.array_strptime\u001b[1;34m()\u001b[0m\n",
      "\u001b[1;31mValueError\u001b[0m: time data \"0\" doesn't match format \"%Y%m%d\", at position 754. You might want to try:\n    - passing `format` if your strings have a consistent format;\n    - passing `format='ISO8601'` if your strings are all ISO8601 but not necessarily in exactly the same format;\n    - passing `format='mixed'`, and the format will be inferred for each element individually. You might want to use `dayfirst` alongside this."
     ]
    }
   ],
   "source": [
    "events_df.DATE=pd.to_datetime(events_df.DATE,format='%Y%m%d') #change data type DATE into datetime\n",
    "events_df['TIME'] = events_df['TIME'].apply(lambda x: '{:02d}:{:02d}:{:02d}.{:02d}'.format(x // 1000000, (x // 10000) % 100, (x // 100) % 100, x % 100))#events_df['Date']=events_df['DateTime'].dt.date #split the date and time\n",
    "#events_df['TIME'] = pd.to_datetime(events_df['TIME'].apply(lambda x: '{:02d}:{:02d}:{:02d}.{:02d}'.format(x // 1000000, (x // 10000) % 100, (x // 100) % 100, x % 100)), format='%H:%M:%S.%f').dt.time\n",
    "#events_df['Time']=events_df['DateTime'].dt.time\n"
   ]
  },
  {
   "cell_type": "code",
   "execution_count": 10,
   "metadata": {},
   "outputs": [
    {
     "data": {
      "text/html": [
       "<div>\n",
       "<style scoped>\n",
       "    .dataframe tbody tr th:only-of-type {\n",
       "        vertical-align: middle;\n",
       "    }\n",
       "\n",
       "    .dataframe tbody tr th {\n",
       "        vertical-align: top;\n",
       "    }\n",
       "\n",
       "    .dataframe thead th {\n",
       "        text-align: right;\n",
       "    }\n",
       "</style>\n",
       "<table border=\"1\" class=\"dataframe\">\n",
       "  <thead>\n",
       "    <tr style=\"text-align: right;\">\n",
       "      <th></th>\n",
       "      <th>DATE</th>\n",
       "      <th>TIME</th>\n",
       "      <th>LAT</th>\n",
       "      <th>LON</th>\n",
       "      <th>DEP</th>\n",
       "      <th>MAG</th>\n",
       "      <th>EH</th>\n",
       "      <th>EV</th>\n",
       "      <th>RMS</th>\n",
       "      <th>ID</th>\n",
       "      <th>TYPE</th>\n",
       "    </tr>\n",
       "  </thead>\n",
       "  <tbody>\n",
       "    <tr>\n",
       "      <th>0</th>\n",
       "      <td>20120101</td>\n",
       "      <td>18013040.0</td>\n",
       "      <td>-7.94</td>\n",
       "      <td>111.65</td>\n",
       "      <td>10.0</td>\n",
       "      <td>2.6</td>\n",
       "      <td>0.0</td>\n",
       "      <td>0.0</td>\n",
       "      <td>0.82</td>\n",
       "      <td>1.0</td>\n",
       "      <td>0.0</td>\n",
       "    </tr>\n",
       "    <tr>\n",
       "      <th>1</th>\n",
       "      <td>20120102</td>\n",
       "      <td>18395190.0</td>\n",
       "      <td>-8.87</td>\n",
       "      <td>111.45</td>\n",
       "      <td>28.0</td>\n",
       "      <td>2.9</td>\n",
       "      <td>0.0</td>\n",
       "      <td>0.0</td>\n",
       "      <td>1.11</td>\n",
       "      <td>2.0</td>\n",
       "      <td>0.0</td>\n",
       "    </tr>\n",
       "    <tr>\n",
       "      <th>2</th>\n",
       "      <td>20120103</td>\n",
       "      <td>14115070.0</td>\n",
       "      <td>-9.81</td>\n",
       "      <td>112.97</td>\n",
       "      <td>18.0</td>\n",
       "      <td>3.4</td>\n",
       "      <td>0.0</td>\n",
       "      <td>0.0</td>\n",
       "      <td>0.33</td>\n",
       "      <td>3.0</td>\n",
       "      <td>0.0</td>\n",
       "    </tr>\n",
       "    <tr>\n",
       "      <th>3</th>\n",
       "      <td>20120103</td>\n",
       "      <td>19122250.0</td>\n",
       "      <td>-9.11</td>\n",
       "      <td>111.79</td>\n",
       "      <td>109.0</td>\n",
       "      <td>2.7</td>\n",
       "      <td>0.0</td>\n",
       "      <td>0.0</td>\n",
       "      <td>0.62</td>\n",
       "      <td>4.0</td>\n",
       "      <td>0.0</td>\n",
       "    </tr>\n",
       "    <tr>\n",
       "      <th>4</th>\n",
       "      <td>20120106</td>\n",
       "      <td>13194460.0</td>\n",
       "      <td>-8.65</td>\n",
       "      <td>112.31</td>\n",
       "      <td>96.0</td>\n",
       "      <td>3.8</td>\n",
       "      <td>0.0</td>\n",
       "      <td>0.0</td>\n",
       "      <td>0.65</td>\n",
       "      <td>5.0</td>\n",
       "      <td>0.0</td>\n",
       "    </tr>\n",
       "  </tbody>\n",
       "</table>\n",
       "</div>"
      ],
      "text/plain": [
       "       DATE        TIME   LAT     LON    DEP  MAG   EH   EV   RMS   ID  TYPE\n",
       "0  20120101  18013040.0 -7.94  111.65   10.0  2.6  0.0  0.0  0.82  1.0   0.0\n",
       "1  20120102  18395190.0 -8.87  111.45   28.0  2.9  0.0  0.0  1.11  2.0   0.0\n",
       "2  20120103  14115070.0 -9.81  112.97   18.0  3.4  0.0  0.0  0.33  3.0   0.0\n",
       "3  20120103  19122250.0 -9.11  111.79  109.0  2.7  0.0  0.0  0.62  4.0   0.0\n",
       "4  20120106  13194460.0 -8.65  112.31   96.0  3.8  0.0  0.0  0.65  5.0   0.0"
      ]
     },
     "execution_count": 10,
     "metadata": {},
     "output_type": "execute_result"
    }
   ],
   "source": [
    "events_df.head() #display the dataframe"
   ]
  },
  {
   "cell_type": "code",
   "execution_count": 184,
   "metadata": {},
   "outputs": [
    {
     "data": {
      "text/plain": [
       "DATE    datetime64[ns]\n",
       "TIME            object\n",
       "LAT            float64\n",
       "LON            float64\n",
       "DEP            float64\n",
       "MAG            float64\n",
       "EH             float64\n",
       "EV             float64\n",
       "RMS            float64\n",
       "ID               int64\n",
       "TYPE             int64\n",
       "dtype: object"
      ]
     },
     "execution_count": 184,
     "metadata": {},
     "output_type": "execute_result"
    }
   ],
   "source": [
    "events_df.dtypes"
   ]
  },
  {
   "cell_type": "code",
   "execution_count": 191,
   "metadata": {},
   "outputs": [
    {
     "data": {
      "text/plain": [
       "<AxesSubplot:title={'center':'Distribusi Magnitude\\n'}, xlabel='MAG', ylabel='Count\\n'>"
      ]
     },
     "execution_count": 191,
     "metadata": {},
     "output_type": "execute_result"
    },
    {
     "data": {
      "image/png": "[encoded data removed]",
      "text/plain": [
       "<Figure size 1080x576 with 1 Axes>"
      ]
     },
     "metadata": {},
     "output_type": "display_data"
    }
   ],
   "source": [
    "plt.title('Distribusi Magnitude\\n',fontsize=16)\n",
    "plt.ylabel('Count\\n', fontsize=12)\n",
    "sns.histplot(events_df.MAG)"
   ]
  },
  {
   "cell_type": "code",
   "execution_count": 192,
   "metadata": {},
   "outputs": [
    {
     "name": "stdout",
     "output_type": "stream",
     "text": [
      "Min Dep 10.0 \n",
      "Max Mag 643.0\n"
     ]
    }
   ],
   "source": [
    "print('Min Dep',events_df['DEP'].min(),'\\nMax Mag',events_df['DEP'].max())"
   ]
  },
  {
   "cell_type": "code",
   "execution_count": 193,
   "metadata": {},
   "outputs": [
    {
     "name": "stdout",
     "output_type": "stream",
     "text": [
      "Min Mag 1.6 \n",
      "Max Mag 6.6\n"
     ]
    }
   ],
   "source": [
    "print('Min Mag',events_df['MAG'].min(),'\\nMax Mag',events_df['MAG'].max())"
   ]
  }
 ],
 "metadata": {
  "kernelspec": {
   "display_name": "base",
   "language": "python",
   "name": "python3"
  },
  "language_info": {
   "codemirror_mode": {
    "name": "ipython",
    "version": 3
   },
   "file_extension": ".py",
   "mimetype": "text/x-python",
   "name": "python",
   "nbconvert_exporter": "python",
   "pygments_lexer": "ipython3",
   "version": "3.12.0"
  },
  "orig_nbformat": 4,
  "vscode": {
   "interpreter": {
    "hash": "ad2bdc8ecc057115af97d19610ffacc2b4e99fae6737bb82f5d7fb13d2f2c186"
   }
  }
 },
 "nbformat": 4,
 "nbformat_minor": 2
}
